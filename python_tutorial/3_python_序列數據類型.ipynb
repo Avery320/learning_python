{
 "cells": [
  {
   "cell_type": "markdown",
   "metadata": {},
   "source": [
    "## list 列表"
   ]
  },
  {
   "cell_type": "code",
   "execution_count": 1,
   "metadata": {},
   "outputs": [
    {
     "name": "stdout",
     "output_type": "stream",
     "text": [
      "10\n",
      "['c', 'd', 'e']\n",
      "c\n"
     ]
    }
   ],
   "source": [
    "letters = ['a', 'b', 'c', 'd', 'e', 'f', 'g', 'h', 'i', 'j']\n",
    "print(len(letters))\n",
    "print(letters[2:5])\n",
    "print(letters[2])"
   ]
  },
  {
   "cell_type": "code",
   "execution_count": 2,
   "metadata": {},
   "outputs": [
    {
     "name": "stdout",
     "output_type": "stream",
     "text": [
      "['a', 'b', '2', 'd', 'e', 'f', 'g', 'h', 'i', 'j']\n",
      "i\n",
      "a is in letters\n"
     ]
    }
   ],
   "source": [
    "letters[2] = '2'\n",
    "print(letters)\n",
    "print(letters[-2])\n",
    "if 'a' in letters:\n",
    "    print('a is in letters')"
   ]
  },
  {
   "cell_type": "markdown",
   "metadata": {},
   "source": [
    "####  列表的增加與刪除\n"
   ]
  },
  {
   "cell_type": "code",
   "execution_count": 4,
   "metadata": {},
   "outputs": [
    {
     "name": "stdout",
     "output_type": "stream",
     "text": [
      "['pointA']\n",
      "['pointB', 'pointA']\n",
      "list_2 = ['pointB']\n",
      "[1, 3, 4, 5]\n",
      "[1, 3, 4]\n"
     ]
    }
   ],
   "source": [
    "list = ['pointA']\n",
    "print(list)\n",
    "list.insert(-1, 'pointB') # insert\n",
    "print(list) \n",
    "list.remove('pointA') # remove\n",
    "list_2 = list.copy()\n",
    "print(f'list_2 = {list_2}') # copy\n",
    "\n",
    "list_num = [1, 2, 3, 4, 5]\n",
    "del list_num[1] # delete\n",
    "print(list_num)"
   ]
  },
  {
   "cell_type": "markdown",
   "metadata": {},
   "source": [
    "#### list運算"
   ]
  },
  {
   "cell_type": "code",
   "execution_count": 38,
   "metadata": {},
   "outputs": [
    {
     "name": "stdout",
     "output_type": "stream",
     "text": [
      "[1, 2, 3, 4, 5, 6]\n",
      "[1, 2, 3, 1, 2, 3, 1, 2, 3]\n",
      "3\n",
      "3\n",
      "1\n"
     ]
    }
   ],
   "source": [
    "list1, list2 = [1, 2, 3], [4, 5, 6]\n",
    "print(list1 + list2) # merge\n",
    "print(list1 * 3) # repeat\n",
    "\n",
    "print(len(list1)) # length\n",
    "print(max(list1)) # max\n",
    "print(min(list1)) # min"
   ]
  },
  {
   "cell_type": "code",
   "execution_count": 6,
   "metadata": {},
   "outputs": [
    {
     "name": "stdout",
     "output_type": "stream",
     "text": [
      "['a', 'b', 'c', 'd', 'e', 'f', 'g', 'h', 'i', 'j']\n",
      "['a', 'b', 'c', 'd', 'e', 'f', 'g', 'h', 'i', 'j']\n",
      "['j', 'f', 'e', 'b', 'd', 'c', 'h', 'g', 'a', 'i']\n"
     ]
    }
   ],
   "source": [
    "# 列表\n",
    "list_01 = ['i', 'a', 'g', 'h', 'c', 'd', 'b' , 'e', 'f', 'j']\n",
    "list_02 = ['i', 'a', 'g', 'h', 'c', 'd', 'b' , 'e', 'f', 'j']\n",
    "\n",
    "print(sorted(list_01)) # sorted\n",
    "list_02.sort() # sort\n",
    "print(list_02)\n",
    "\n",
    "list_01.reverse() # reverse\n",
    "print(list_01)"
   ]
  },
  {
   "cell_type": "markdown",
   "metadata": {},
   "source": [
    "## tuple 元祖"
   ]
  },
  {
   "cell_type": "code",
   "execution_count": 9,
   "metadata": {},
   "outputs": [
    {
     "name": "stdout",
     "output_type": "stream",
     "text": [
      "(1, 2, 3, 4, 5)\n",
      "(2, 3, 4, 5, 6)\n",
      "5 6 2\n"
     ]
    }
   ],
   "source": [
    "# tuple創建後，裡面的值無法單獨被修改與刪除\n",
    "num = (1, 2, 3, 4, 5)\n",
    "print(num)\n",
    "\n",
    "#重新賦值\n",
    "num = (2, 3, 4, 5, 6) \n",
    "print(num)\n",
    "\n",
    "#數值選取\n",
    "print(len(num), max(num), min(num))\n"
   ]
  },
  {
   "cell_type": "code",
   "execution_count": 11,
   "metadata": {},
   "outputs": [
    {
     "name": "stdout",
     "output_type": "stream",
     "text": [
      "4\n",
      "3\n",
      "2\n",
      "1\n",
      "0\n"
     ]
    }
   ],
   "source": [
    "# print tuple中的值\n",
    "for x in num:\n",
    "    print(6-x)"
   ]
  },
  {
   "cell_type": "code",
   "execution_count": 37,
   "metadata": {},
   "outputs": [
    {
     "name": "stdout",
     "output_type": "stream",
     "text": [
      "a\n",
      "b\n",
      "c\n",
      "d\n",
      "e\n"
     ]
    }
   ],
   "source": [
    "data = ('a', 'b', 'c', 'd', 'e')\n",
    "\n",
    "for data in data:\n",
    "    print(data) "
   ]
  },
  {
   "cell_type": "markdown",
   "metadata": {},
   "source": [
    "## dictionary "
   ]
  },
  {
   "cell_type": "code",
   "execution_count": 50,
   "metadata": {},
   "outputs": [
    {
     "name": "stdout",
     "output_type": "stream",
     "text": [
      "John 25\n",
      "I am John, I am 25 years old\n",
      "['Math', 'CompSci']\n",
      "{'name': 'John', 'age': 25, 'courses': ['Math', 'CompSci'], 'height': 180}\n",
      "180\n"
     ]
    }
   ],
   "source": [
    "student = {'name': 'John', 'age': 25, 'courses': ['Math', 'CompSci']}\n",
    "print(student['name'], student['age'])\n",
    "print(f\"I am {student['name']}, I am {student['age']} years old\")\n",
    "print(student['courses'])\n",
    "\n",
    "# 新增一個值\n",
    "student['height'] = 180\n",
    "print(student)\n",
    "print(student['height'])"
   ]
  },
  {
   "cell_type": "markdown",
   "metadata": {},
   "source": [
    "#### 搜尋"
   ]
  },
  {
   "cell_type": "code",
   "execution_count": 61,
   "metadata": {},
   "outputs": [
    {
     "name": "stdout",
     "output_type": "stream",
     "text": [
      "The user_name is Avery.\n",
      "The first_name is Cheng-En.\n",
      "The last_name is Tsai.\n",
      "-----------------\n",
      "user_name\n",
      "first_name\n",
      "last_name\n",
      "-----------------\n",
      "Avery\n",
      "AVERY\n",
      "Cheng-En\n",
      "CHENG-EN\n",
      "Tsai\n",
      "TSAI\n"
     ]
    }
   ],
   "source": [
    "#case01\n",
    "user = {'user_name':'Avery', 'first_name':'Cheng-En', 'last_name':'Tsai'}\n",
    "\n",
    "for key, value in user.items():\n",
    "    print(f'The {key} is {value}.')\n",
    "\n",
    "print(\"-----------------\")\n",
    "for key in user.keys():\n",
    "    print(key)\n",
    "\n",
    "print(\"-----------------\")\n",
    "for value in sorted(user.values()):\n",
    "    print(value)\n",
    "    print(value.upper())"
   ]
  },
  {
   "cell_type": "code",
   "execution_count": 12,
   "metadata": {},
   "outputs": [
    {
     "name": "stdout",
     "output_type": "stream",
     "text": [
      "You ordered a thick-crust pizza with the following toppings:\n",
      "\tmushrooms\n",
      "\textra cheese\n",
      "mushrooms\n",
      "extra cheese\n"
     ]
    }
   ],
   "source": [
    "#case02\n",
    "pizza = {\n",
    "    'crust': 'thick',\n",
    "    'toppings': ['mushrooms', 'extra cheese'],\n",
    "}\n",
    "\n",
    "print(f\"You ordered a {pizza['crust']}-crust pizza with the following toppings:\")\n",
    "\n",
    "for topping in pizza['toppings']:\n",
    "    print(\"\\t\" + topping)\n",
    "\n",
    "for topping in pizza['toppings']:\n",
    "    print(topping)"
   ]
  },
  {
   "cell_type": "markdown",
   "metadata": {},
   "source": [
    "## set 集合"
   ]
  },
  {
   "cell_type": "code",
   "execution_count": 3,
   "metadata": {},
   "outputs": [
    {
     "name": "stdout",
     "output_type": "stream",
     "text": [
      "{'blue', 'yellow', 'red', 'green'}\n",
      "True\n"
     ]
    }
   ],
   "source": [
    "colors = {'red', 'green', 'blue', 'yellow', 'red'}\n",
    "print(colors) #集合不會有重複的值\n",
    "print('red' in colors)"
   ]
  },
  {
   "cell_type": "code",
   "execution_count": null,
   "metadata": {},
   "outputs": [],
   "source": []
  },
  {
   "cell_type": "code",
   "execution_count": 9,
   "metadata": {},
   "outputs": [
    {
     "name": "stdout",
     "output_type": "stream",
     "text": [
      "{'a', 'b'}\n",
      "['a', 'b', 'c', 'd', 'e', 'f', 'g', 'h', 'i']\n",
      "['c', 'd', 'e', 'f', 'g']\n",
      "{'a', 'b', 'h', 'i'}\n"
     ]
    }
   ],
   "source": [
    "a = set('abcdefg')\n",
    "b = set('cdefghi')\n",
    "\n",
    "print(a - b) #差集\n",
    "print(sorted(a | b)) #聯集\n",
    "print(sorted(a & b)) #交集\n",
    "print(a ^ b) #不同的值"
   ]
  },
  {
   "cell_type": "code",
   "execution_count": 17,
   "metadata": {},
   "outputs": [
    {
     "name": "stdout",
     "output_type": "stream",
     "text": [
      "{'Amazon', 'Google', 'Apple', 'Tesla', 'Microsoft'}\n"
     ]
    }
   ],
   "source": [
    "companies = set(('Apple', 'Google', 'Microsoft', 'Amazon'))\n",
    "companies.add('Tesla')\n",
    "print(companies)"
   ]
  },
  {
   "cell_type": "code",
   "execution_count": 40,
   "metadata": {},
   "outputs": [
    {
     "name": "stdout",
     "output_type": "stream",
     "text": [
      "{'Amazon', 'Microsoft', 'Google', 'Apple', 'Twitter'}\n",
      "{1, 5, 'Twitter', 'Apple', 16, 'Amazon', 'Google', 41, 'Microsoft'}\n"
     ]
    }
   ],
   "source": [
    "new_set = set(('Apple', 'Google', 'Microsoft', 'Amazon'))\n",
    "new_set.update({'Twitter'})\n",
    "print(new_set)\n",
    "\n",
    "new_set.update([1,41],[5,16])\n",
    "print(new_set)"
   ]
  },
  {
   "cell_type": "code",
   "execution_count": 41,
   "metadata": {},
   "outputs": [
    {
     "name": "stdout",
     "output_type": "stream",
     "text": [
      "{1, 5, 'Twitter', 'Apple', 16, 'Amazon', 'Google', 41, 'Microsoft'}\n",
      "{1, 5, 'Apple', 16, 'Amazon', 'Google', 41, 'Microsoft'}\n"
     ]
    }
   ],
   "source": [
    "print(new_set)\n",
    "new_set.remove('Twitter') #無法刪除不存在的值\n",
    "print(new_set)"
   ]
  },
  {
   "cell_type": "code",
   "execution_count": 44,
   "metadata": {},
   "outputs": [
    {
     "name": "stdout",
     "output_type": "stream",
     "text": [
      "{1, 'Amazon', 5, 'Google', 41, 16, 'Microsoft'}\n",
      "{1, 'Amazon', 5, 'Google', 41, 16, 'Microsoft'}\n"
     ]
    }
   ],
   "source": [
    "new_set = {1, 5, 'Apple', 16, 'Amazon', 'Google', 41, 'Microsoft'}\n",
    "new_set.remove('Apple')\n",
    "print(new_set)\n",
    "new_set.discard('Facebook') #可以刪除不存在的值\n",
    "print(new_set)"
   ]
  }
 ],
 "metadata": {
  "kernelspec": {
   "display_name": "base",
   "language": "python",
   "name": "python3"
  },
  "language_info": {
   "codemirror_mode": {
    "name": "ipython",
    "version": 3
   },
   "file_extension": ".py",
   "mimetype": "text/x-python",
   "name": "python",
   "nbconvert_exporter": "python",
   "pygments_lexer": "ipython3",
   "version": "3.11.5"
  }
 },
 "nbformat": 4,
 "nbformat_minor": 2
}
