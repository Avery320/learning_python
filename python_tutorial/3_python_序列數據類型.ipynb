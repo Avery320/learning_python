{
 "cells": [
  {
   "cell_type": "markdown",
   "metadata": {},
   "source": [
    "## list 列表"
   ]
  },
  {
   "cell_type": "code",
   "execution_count": 3,
   "metadata": {},
   "outputs": [
    {
     "name": "stdout",
     "output_type": "stream",
     "text": [
      "10\n",
      "['c', 'd', 'e']\n",
      "c\n"
     ]
    }
   ],
   "source": [
    "letters = ['a', 'b', 'c', 'd', 'e', 'f', 'g', 'h', 'i', 'j']\n",
    "print(len(letters))\n",
    "print(letters[2:5])\n",
    "print(letters[2])"
   ]
  },
  {
   "cell_type": "code",
   "execution_count": 8,
   "metadata": {},
   "outputs": [
    {
     "name": "stdout",
     "output_type": "stream",
     "text": [
      "['a', 'b', '2', 'd', 'e', 'f', 'g', 'h', 'i', 'j']\n",
      "i\n"
     ]
    }
   ],
   "source": [
    "letters[2] = '2'\n",
    "print(letters)\n",
    "print(letters[-2])\n",
    "if 'a' in letters:\n",
    "    print('a is in letters')"
   ]
  },
  {
   "cell_type": "markdown",
   "metadata": {},
   "source": [
    "####  列表的增加與刪除\n"
   ]
  },
  {
   "cell_type": "code",
   "execution_count": 22,
   "metadata": {},
   "outputs": [
    {
     "name": "stdout",
     "output_type": "stream",
     "text": [
      "['pointA']\n",
      "['pointB', 'pointA']\n",
      "list_2 = ['pointB']\n",
      "[1, 3, 4, 5]\n"
     ]
    }
   ],
   "source": [
    "list = ['pointA']\n",
    "print(list)\n",
    "list.insert(-1, 'pointB') # insert\n",
    "print(list) \n",
    "list.remove('pointA') # remove\n",
    "list_2 = list.copy()\n",
    "print(f'list_2 = {list_2}') # copy\n",
    "\n",
    "list_num = [1, 2, 3, 4, 5]\n",
    "del list_num[1] # delete\n",
    "print(list_num)"
   ]
  },
  {
   "cell_type": "markdown",
   "metadata": {},
   "source": [
    "#### list運算"
   ]
  },
  {
   "cell_type": "code",
   "execution_count": 38,
   "metadata": {},
   "outputs": [
    {
     "name": "stdout",
     "output_type": "stream",
     "text": [
      "[1, 2, 3, 4, 5, 6]\n",
      "[1, 2, 3, 1, 2, 3, 1, 2, 3]\n",
      "3\n",
      "3\n",
      "1\n"
     ]
    }
   ],
   "source": [
    "list1, list2 = [1, 2, 3], [4, 5, 6]\n",
    "print(list1 + list2) # merge\n",
    "print(list1 * 3) # repeat\n",
    "\n",
    "print(len(list1)) # length\n",
    "print(max(list1)) # max\n",
    "print(min(list1)) # min"
   ]
  },
  {
   "cell_type": "code",
   "execution_count": 33,
   "metadata": {},
   "outputs": [
    {
     "name": "stdout",
     "output_type": "stream",
     "text": [
      "['a', 'b', 'c', 'd', 'e', 'f', 'g', 'h', 'i', 'j']\n",
      "['a', 'b', 'c', 'd', 'e', 'f', 'g', 'h', 'i', 'j']\n",
      "['j', 'i', 'h', 'g', 'f', 'e', 'd', 'c', 'b', 'a']\n"
     ]
    }
   ],
   "source": [
    "# 列表\n",
    "list = ['i', 'a', 'g', 'h', 'c', 'd', 'b' , 'e', 'f', 'j']\n",
    "\n",
    "print(sorted(list)) # sorted\n",
    "list.sort() # sort\n",
    "print(list)\n",
    "\n",
    "list.reverse() # reverse\n",
    "print(list)"
   ]
  },
  {
   "cell_type": "markdown",
   "metadata": {},
   "source": [
    "## tuple 元祖"
   ]
  },
  {
   "cell_type": "code",
   "execution_count": 42,
   "metadata": {},
   "outputs": [
    {
     "name": "stdout",
     "output_type": "stream",
     "text": [
      "(1, 2, 3, 4, 5)\n",
      "(2, 3, 4, 5, 6)\n",
      "11 2\n"
     ]
    }
   ],
   "source": [
    "# tuple創建後，裡面的值無法單獨被修改與刪除\n",
    "num = (1, 2, 3, 4, 5)\n",
    "print(num)\n",
    "\n",
    "#重新賦值\n",
    "num = (2, 3, 4, 5, 6) \n",
    "print(num)\n",
    "\n",
    "#數值選取\n",
    "print(len(num), max(num),min(num))\n"
   ]
  },
  {
   "cell_type": "code",
   "execution_count": 36,
   "metadata": {},
   "outputs": [
    {
     "name": "stdout",
     "output_type": "stream",
     "text": [
      "2\n",
      "3\n",
      "4\n",
      "5\n",
      "6\n"
     ]
    }
   ],
   "source": [
    "# print tuple中的值\n",
    "for num in num:\n",
    "    print(num)"
   ]
  },
  {
   "cell_type": "code",
   "execution_count": 37,
   "metadata": {},
   "outputs": [
    {
     "name": "stdout",
     "output_type": "stream",
     "text": [
      "a\n",
      "b\n",
      "c\n",
      "d\n",
      "e\n"
     ]
    }
   ],
   "source": [
    "data = ('a', 'b', 'c', 'd', 'e')\n",
    "\n",
    "for data in data:\n",
    "    print(data) "
   ]
  },
  {
   "cell_type": "markdown",
   "metadata": {},
   "source": [
    "## dictionary "
   ]
  },
  {
   "cell_type": "code",
   "execution_count": 50,
   "metadata": {},
   "outputs": [
    {
     "name": "stdout",
     "output_type": "stream",
     "text": [
      "John 25\n",
      "I am John, I am 25 years old\n",
      "['Math', 'CompSci']\n",
      "{'name': 'John', 'age': 25, 'courses': ['Math', 'CompSci'], 'height': 180}\n",
      "180\n"
     ]
    }
   ],
   "source": [
    "student = {'name': 'John', 'age': 25, 'courses': ['Math', 'CompSci']}\n",
    "print(student['name'], student['age'])\n",
    "print(f\"I am {student['name']}, I am {student['age']} years old\")\n",
    "print(student['courses'])\n",
    "\n",
    "# 新增一個值\n",
    "student['height'] = 180\n",
    "print(student)\n",
    "print(student['height'])"
   ]
  },
  {
   "cell_type": "markdown",
   "metadata": {},
   "source": [
    "#### 搜尋"
   ]
  },
  {
   "cell_type": "code",
   "execution_count": 61,
   "metadata": {},
   "outputs": [
    {
     "name": "stdout",
     "output_type": "stream",
     "text": [
      "The user_name is Avery.\n",
      "The first_name is Cheng-En.\n",
      "The last_name is Tsai.\n",
      "-----------------\n",
      "user_name\n",
      "first_name\n",
      "last_name\n",
      "-----------------\n",
      "Avery\n",
      "AVERY\n",
      "Cheng-En\n",
      "CHENG-EN\n",
      "Tsai\n",
      "TSAI\n"
     ]
    }
   ],
   "source": [
    "#case01\n",
    "user = {'user_name':'Avery', 'first_name':'Cheng-En', 'last_name':'Tsai'}\n",
    "\n",
    "for key, value in user.items():\n",
    "    print(f'The {key} is {value}.')\n",
    "\n",
    "print(\"-----------------\")\n",
    "for key in user.keys():\n",
    "    print(key)\n",
    "\n",
    "print(\"-----------------\")\n",
    "for value in sorted(user.values()):\n",
    "    print(value)\n",
    "    print(value.upper())\n"
   ]
  },
  {
   "cell_type": "code",
   "execution_count": 65,
   "metadata": {},
   "outputs": [
    {
     "name": "stdout",
     "output_type": "stream",
     "text": [
      "You ordered a thick-crust pizza with the following toppings:\n",
      "\tmushrooms\n",
      "\textra cheese\n",
      "mushrooms\n",
      "extra cheese\n"
     ]
    }
   ],
   "source": [
    "#case02\n",
    "pizza = {\n",
    "    'crust': 'thick',\n",
    "    'toppings': ['mushrooms', 'extra cheese'],\n",
    "}\n",
    "\n",
    "print(f\"You ordered a {pizza['crust']}-crust pizza with the following toppings:\")\n",
    "\n",
    "for topping in pizza['toppings']:\n",
    "    print(\"\\t\" + topping)\n",
    "\n",
    "for topping in pizza['toppings']:\n",
    "    print(topping)"
   ]
  }
 ],
 "metadata": {
  "kernelspec": {
   "display_name": "base",
   "language": "python",
   "name": "python3"
  },
  "language_info": {
   "codemirror_mode": {
    "name": "ipython",
    "version": 3
   },
   "file_extension": ".py",
   "mimetype": "text/x-python",
   "name": "python",
   "nbconvert_exporter": "python",
   "pygments_lexer": "ipython3",
   "version": "3.11.5"
  }
 },
 "nbformat": 4,
 "nbformat_minor": 2
}
