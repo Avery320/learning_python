{
 "cells": [
  {
   "cell_type": "markdown",
   "metadata": {},
   "source": [
    "## class "
   ]
  },
  {
   "cell_type": "code",
   "execution_count": 48,
   "metadata": {},
   "outputs": [
    {
     "name": "stdout",
     "output_type": "stream",
     "text": [
      "Hello, my name is Avery and I am 27 years old.\n"
     ]
    }
   ],
   "source": [
    "\n",
    "class person:\n",
    "    name = 'Avery'\n",
    "    age = '27'\n",
    "    # define a function that will be called on the object\n",
    "    def greet(self):\n",
    "        print('Hello, my name is ' + self.name + ' and I am ' + self.age + ' years old.')\n",
    "\n",
    "pl = person()\n",
    "pl.greet() #greet function is called on the object pl"
   ]
  },
  {
   "cell_type": "code",
   "execution_count": 49,
   "metadata": {},
   "outputs": [
    {
     "name": "stdout",
     "output_type": "stream",
     "text": [
      "Hello, my name is Jon and I am 29 years old.\n"
     ]
    }
   ],
   "source": [
    "# modify the object's properties\n",
    "pl.name = 'Jon'\n",
    "pl.age = '29'\n",
    "pl.greet()"
   ]
  },
  {
   "cell_type": "markdown",
   "metadata": {},
   "source": [
    "## init, self"
   ]
  },
  {
   "cell_type": "code",
   "execution_count": 52,
   "metadata": {},
   "outputs": [
    {
     "name": "stdout",
     "output_type": "stream",
     "text": [
      "Hello, my name is Avery and I am 27 years old.\n"
     ]
    }
   ],
   "source": [
    "# 初始化函式\n",
    "class person:\n",
    "    def __init__(self):\n",
    "        self.name = 'Avery'\n",
    "        self.age = '27'\n",
    "    def greet(self):\n",
    "        print('Hello, my name is ' + self.name + ' and I am ' + self.age + ' years old.')\n",
    "\n",
    "pl = person()\n",
    "pl.greet()"
   ]
  },
  {
   "cell_type": "code",
   "execution_count": 53,
   "metadata": {},
   "outputs": [
    {
     "name": "stdout",
     "output_type": "stream",
     "text": [
      "Hello, my name is name and I am age years old.\n"
     ]
    }
   ],
   "source": [
    "# 自定義初始化函式\n",
    "class person:\n",
    "    def __init__(self, name, age):\n",
    "        self.name = 'name'\n",
    "        self.age = 'age'\n",
    "    def greet(self):\n",
    "        print('Hello, my name is ' + self.name + ' and I am ' + self.age + ' years old.')\n",
    "\n",
    "pl = person('Jon', 29)\n",
    "pl.greet()"
   ]
  },
  {
   "cell_type": "markdown",
   "metadata": {},
   "source": [
    "## inheritance, polymorphism(繼承與多態)"
   ]
  },
  {
   "cell_type": "markdown",
   "metadata": {},
   "source": [
    "### inheritance"
   ]
  },
  {
   "cell_type": "code",
   "execution_count": 121,
   "metadata": {},
   "outputs": [],
   "source": [
    "class Animal():\n",
    "    def __init__(self, name):\n",
    "        self.name = name\n",
    "    def greet(self):\n",
    "        print('Hello, I am an %s. ' % self.name)\n",
    "\n",
    "class Dog():\n",
    "    def __init__(self, name):\n",
    "        self.name = name\n",
    "    def greet(self):\n",
    "        print('WangWang.., I am an %s. ' % self.name)"
   ]
  },
  {
   "cell_type": "code",
   "execution_count": 122,
   "metadata": {},
   "outputs": [],
   "source": [
    "class Dog(Animal):\n",
    "    def intro(self):\n",
    "        print('WangWang.., I am %s. ' % self.name)"
   ]
  },
  {
   "cell_type": "code",
   "execution_count": 125,
   "metadata": {},
   "outputs": [
    {
     "name": "stdout",
     "output_type": "stream",
     "text": [
      "Hello, I am an animal. \n",
      "WangWang.., I am dog. \n"
     ]
    }
   ],
   "source": [
    "animal = Animal('animal')\n",
    "animal.greet()\n",
    "\n",
    "dog = Dog('dog')\n",
    "dog.intro()"
   ]
  },
  {
   "cell_type": "code",
   "execution_count": 126,
   "metadata": {},
   "outputs": [
    {
     "name": "stdout",
     "output_type": "stream",
     "text": [
      "WangWang.., I am dog. \n",
      "I am running..\n"
     ]
    }
   ],
   "source": [
    "class Dog(Animal):\n",
    "    def greet(self):\n",
    "        print('WangWang.., I am %s. ' % self.name)\n",
    "    def run(self):\n",
    "        print('I am running..')\n",
    "\n",
    "dog = Dog('dog')\n",
    "dog.greet()\n",
    "dog.run()"
   ]
  },
  {
   "cell_type": "markdown",
   "metadata": {},
   "source": [
    "#### polymorphism"
   ]
  },
  {
   "cell_type": "code",
   "execution_count": null,
   "metadata": {},
   "outputs": [],
   "source": [
    "class Animal():\n",
    "    def __init__(self, name):\n",
    "        self.name = name\n",
    "    def greet(self):\n",
    "        print('Hello, I am an %s. ' % self.name)"
   ]
  }
 ],
 "metadata": {
  "kernelspec": {
   "display_name": "python_learning",
   "language": "python",
   "name": "python3"
  },
  "language_info": {
   "codemirror_mode": {
    "name": "ipython",
    "version": 3
   },
   "file_extension": ".py",
   "mimetype": "text/x-python",
   "name": "python",
   "nbconvert_exporter": "python",
   "pygments_lexer": "ipython3",
   "version": "3.1.undefined"
  }
 },
 "nbformat": 4,
 "nbformat_minor": 2
}
