{
 "cells": [
  {
   "cell_type": "markdown",
   "metadata": {},
   "source": [
    "## class "
   ]
  },
  {
   "cell_type": "code",
   "execution_count": 3,
   "metadata": {},
   "outputs": [
    {
     "name": "stdout",
     "output_type": "stream",
     "text": [
      "Hello, my name is Avery and I am 27 years old.\n"
     ]
    }
   ],
   "source": [
    "\n",
    "class person:\n",
    "    name = 'Avery'\n",
    "    age = '27'\n",
    "    def greet(self):\n",
    "        print('Hello, my name is ' + self.name + ' and I am ' + self.age + ' years old.')\n",
    "\n",
    "pl = person()\n",
    "pl.greet()"
   ]
  },
  {
   "cell_type": "code",
   "execution_count": 9,
   "metadata": {},
   "outputs": [
    {
     "name": "stdout",
     "output_type": "stream",
     "text": [
      "Hello, my name is Jon and I am 29 years old.\n",
      "Jon\n"
     ]
    }
   ],
   "source": [
    "pl.name = 'Jon'\n",
    "pl.age = '29'\n",
    "pl.greet()"
   ]
  }
 ],
 "metadata": {
  "kernelspec": {
   "display_name": "python_learning",
   "language": "python",
   "name": "python3"
  },
  "language_info": {
   "codemirror_mode": {
    "name": "ipython",
    "version": 3
   },
   "file_extension": ".py",
   "mimetype": "text/x-python",
   "name": "python",
   "nbconvert_exporter": "python",
   "pygments_lexer": "ipython3",
   "version": "3.10.14"
  }
 },
 "nbformat": 4,
 "nbformat_minor": 2
}
