{
 "cells": [
  {
   "cell_type": "markdown",
   "metadata": {},
   "source": [
    "### Variabel 變量\n",
    "Bool, Number, String, Tuple ,List, Set, Dictionary"
   ]
  },
  {
   "cell_type": "code",
   "execution_count": 2,
   "metadata": {},
   "outputs": [
    {
     "name": "stdout",
     "output_type": "stream",
     "text": [
      "hello!\n"
     ]
    }
   ],
   "source": [
    "message = \"hello!\"\n",
    "print(message)"
   ]
  },
  {
   "cell_type": "code",
   "execution_count": 1,
   "metadata": {},
   "outputs": [
    {
     "name": "stdout",
     "output_type": "stream",
     "text": [
      "ABC\n",
      "6\n",
      "15\n"
     ]
    }
   ],
   "source": [
    "str1, str2, str3 = \"A\", \"B\", \"C\"\n",
    "print(str1 + str2 + str3)\n",
    "x, y, z = 1, 2, 3\n",
    "print(x + y + z)\n",
    "a = b = c =5\n",
    "print(a + b + c)"
   ]
  },
  {
   "cell_type": "markdown",
   "metadata": {},
   "source": [
    "### bool"
   ]
  },
  {
   "cell_type": "code",
   "execution_count": null,
   "metadata": {},
   "outputs": [],
   "source": [
    "true = True\n",
    "false = False"
   ]
  },
  {
   "cell_type": "code",
   "execution_count": 3,
   "metadata": {},
   "outputs": [
    {
     "name": "stdout",
     "output_type": "stream",
     "text": [
      "False\n",
      "False\n",
      "False\n"
     ]
    }
   ],
   "source": [
    "string = \"hello world\"\n",
    "print(string.isalnum())\n",
    "print(string.isalpha())\n",
    "print(string.isdigit())"
   ]
  },
  {
   "cell_type": "code",
   "execution_count": 4,
   "metadata": {},
   "outputs": [
    {
     "name": "stdout",
     "output_type": "stream",
     "text": [
      "True\n",
      "False\n",
      "True\n",
      "False\n"
     ]
    }
   ],
   "source": [
    "print(True and True)\n",
    "print(True ^ True)\n",
    "print(True ^ False)  \n",
    "print(True ^ True)"
   ]
  },
  {
   "cell_type": "markdown",
   "metadata": {},
   "source": [
    "### number"
   ]
  },
  {
   "cell_type": "code",
   "execution_count": 12,
   "metadata": {},
   "outputs": [
    {
     "name": "stdout",
     "output_type": "stream",
     "text": [
      "<class 'bool'> <class 'int'> <class 'float'> <class 'complex'>\n"
     ]
    }
   ],
   "source": [
    "a, b, c, d = True, 20, 3.75, 4+3j\n",
    "print(type(a), type(b), type(c), type(d))"
   ]
  },
  {
   "cell_type": "code",
   "execution_count": 13,
   "metadata": {},
   "outputs": [
    {
     "name": "stdout",
     "output_type": "stream",
     "text": [
      "5\n",
      "-1\n",
      "6\n",
      "0.6666666666666666\n",
      "0\n",
      "2\n",
      "8\n"
     ]
    }
   ],
   "source": [
    "print(2 + 3)\n",
    "print(2 - 3)\n",
    "print(2 * 3)\n",
    "print(2 / 3) \n",
    "print(2 // 3) #整數除法\n",
    "print(2 % 3) #取餘數\n",
    "print(2 ** 3) #次方"
   ]
  },
  {
   "cell_type": "markdown",
   "metadata": {},
   "source": [
    "#### string 字符串"
   ]
  },
  {
   "cell_type": "code",
   "execution_count": 15,
   "metadata": {},
   "outputs": [
    {
     "name": "stdout",
     "output_type": "stream",
     "text": [
      "I told my friend, 'Python is my favorite language!'\n",
      "The language 'Python' is named after Monty Python, not the snake.\n"
     ]
    }
   ],
   "source": [
    "str1 = \"I told my friend, 'Python is my favorite language!'\"\n",
    "str2 = \"The language 'Python' is named after Monty Python, not the snake.\"\n",
    "print(str1)\n",
    "print(str2)"
   ]
  },
  {
   "cell_type": "code",
   "execution_count": 19,
   "metadata": {},
   "outputs": [
    {
     "name": "stdout",
     "output_type": "stream",
     "text": [
      "I told my friend, 'Python is my favorite language!'\n",
      "I TOLD MY FRIEND, 'PYTHON IS MY FAVORITE LANGUAGE!'\n"
     ]
    }
   ],
   "source": [
    "print(f\"{str1}\") #f\"{}\"\n",
    "print(f\"{str1.upper()}\") #upper()大寫\n"
   ]
  },
  {
   "cell_type": "markdown",
   "metadata": {},
   "source": [
    "##### 轉譯符號"
   ]
  },
  {
   "cell_type": "code",
   "execution_count": 5,
   "metadata": {},
   "outputs": [
    {
     "name": "stdout",
     "output_type": "stream",
     "text": [
      "\tPython\n",
      "I'm\n",
      "the\n",
      "best\n"
     ]
    }
   ],
   "source": [
    "print(\"\\tPython\") #\\t tab\n",
    "print(\"I'm\\nthe\\nbest\") #\\n 換行"
   ]
  },
  {
   "cell_type": "code",
   "execution_count": 11,
   "metadata": {},
   "outputs": [
    {
     "name": "stdout",
     "output_type": "stream",
     "text": [
      "\"test\"\n",
      "'test'\n"
     ]
    }
   ],
   "source": [
    "print(\"\\\"test\\\"\") #\\\" 雙引號用法\n",
    "print(\"\\'test\\'\") #\\' 單引號用法"
   ]
  },
  {
   "cell_type": "markdown",
   "metadata": {},
   "source": [
    "##### 字符串函數操作"
   ]
  },
  {
   "cell_type": "code",
   "execution_count": 43,
   "metadata": {},
   "outputs": [
    {
     "name": "stdout",
     "output_type": "stream",
     "text": [
      "Learning Python\n",
      "Learning Python everyday\n",
      "L\n",
      "ing\n",
      "Python\n",
      "Learning Python/Learning Python/Learning Python/Learning Python/Learning Python/\n"
     ]
    }
   ],
   "source": [
    "str = \"Learning Python\"\n",
    "\n",
    "print(str)\n",
    "print(str + \" everyday\")\n",
    "print(str[0])\n",
    "print(str[5:8])\n",
    "print(str[9:])\n",
    "print((str + \"/\")*5)\n"
   ]
  },
  {
   "cell_type": "code",
   "execution_count": 12,
   "metadata": {},
   "outputs": [
    {
     "name": "stdout",
     "output_type": "stream",
     "text": [
      "Hello Avery\n",
      "HELLO AVERY\n",
      "hello avery\n",
      "HelloWorld\n"
     ]
    }
   ],
   "source": [
    "name = \"heLlO AveRy\"\n",
    "print(name.title()) #title() 首字大寫\n",
    "print(name.upper()) #upper() 全部大寫\n",
    "print(name.lower()) #lower() 全部小寫\n",
    "\n",
    "str1 = \"                       Hello\"\n",
    "str2 = \"  World\"\n",
    "print(str1.strip() + str2.strip()) #strip() 去除空白"
   ]
  }
 ],
 "metadata": {
  "kernelspec": {
   "display_name": "Python 3",
   "language": "python",
   "name": "python3"
  },
  "language_info": {
   "codemirror_mode": {
    "name": "ipython",
    "version": 3
   },
   "file_extension": ".py",
   "mimetype": "text/x-python",
   "name": "python",
   "nbconvert_exporter": "python",
   "pygments_lexer": "ipython3",
   "version": "3.11.5"
  }
 },
 "nbformat": 4,
 "nbformat_minor": 2
}
