{
 "cells": [
  {
   "cell_type": "markdown",
   "metadata": {},
   "source": [
    "### 條件判斷"
   ]
  },
  {
   "cell_type": "code",
   "execution_count": 2,
   "metadata": {},
   "outputs": [
    {
     "name": "stdout",
     "output_type": "stream",
     "text": [
      "c=['Audi', 'BMW', 'Subaru', 'Toyota']\n"
     ]
    }
   ],
   "source": [
    "cars = ['audi', 'bmw', 'subaru', 'toyota']\n",
    "c = []\n",
    "\n",
    "for car  in cars:\n",
    "    if car == 'bmw':\n",
    "        c.append(car.upper())\n",
    "    else:\n",
    "        c.append(car.title())\n",
    "\n",
    "print(f'c={c}')"
   ]
  },
  {
   "cell_type": "markdown",
   "metadata": {},
   "source": [
    "## while"
   ]
  },
  {
   "cell_type": "code",
   "execution_count": 3,
   "metadata": {},
   "outputs": [
    {
     "name": "stdout",
     "output_type": "stream",
     "text": [
      "list=[0, 1, 2, 3, 4, 5, 6, 7, 8, 9]\n"
     ]
    }
   ],
   "source": [
    "num = 0\n",
    "list = []\n",
    "\n",
    "while num < 10:\n",
    "    list.append(num)\n",
    "    num += 1\n",
    "print(f'list={list}')"
   ]
  },
  {
   "cell_type": "code",
   "execution_count": 11,
   "metadata": {},
   "outputs": [
    {
     "name": "stdout",
     "output_type": "stream",
     "text": [
      "9\n",
      "8\n",
      "7\n",
      "6\n",
      "5\n",
      "4\n",
      "3\n",
      "2\n",
      "1\n",
      "0\n"
     ]
    }
   ],
   "source": [
    "#????????????????????\n",
    "a = range(10)\n",
    "\n",
    "while a:\n",
    "    print(a[a[-1]])\n",
    "    a = a[:len(a) - 1]\n"
   ]
  },
  {
   "cell_type": "markdown",
   "metadata": {},
   "source": [
    "### break and continue"
   ]
  },
  {
   "cell_type": "code",
   "execution_count": 12,
   "metadata": {},
   "outputs": [
    {
     "name": "stdout",
     "output_type": "stream",
     "text": [
      "quit\n"
     ]
    }
   ],
   "source": [
    "prompt = 'Enter \"quit\" to end the program: '\n",
    "message = ''\n",
    "\n",
    "while message != 'quit':\n",
    "    message = input(prompt)\n",
    "    print(message)"
   ]
  },
  {
   "cell_type": "code",
   "execution_count": 30,
   "metadata": {},
   "outputs": [
    {
     "name": "stdout",
     "output_type": "stream",
     "text": [
      "list=['e']\n"
     ]
    }
   ],
   "source": [
    "list = []\n",
    "\n",
    "while True:\n",
    "    num = input()\n",
    "    if num == '10':\n",
    "        break\n",
    "    else:\n",
    "        list.append(num)\n",
    "print(f'list={list}')\n",
    "    "
   ]
  },
  {
   "cell_type": "code",
   "execution_count": 31,
   "metadata": {},
   "outputs": [
    {
     "name": "stdout",
     "output_type": "stream",
     "text": [
      "1\n",
      "3\n",
      "5\n",
      "7\n",
      "9\n"
     ]
    }
   ],
   "source": [
    "num = 0\n",
    "while num < 10:\n",
    "    num += 1\n",
    "    if num % 2 == 0:\n",
    "        continue #跳過本次循环\n",
    "    print(num)"
   ]
  },
  {
   "cell_type": "markdown",
   "metadata": {},
   "source": [
    "### 在數組和字典中使用while\n"
   ]
  },
  {
   "cell_type": "code",
   "execution_count": 34,
   "metadata": {},
   "outputs": [
    {
     "name": "stdout",
     "output_type": "stream",
     "text": [
      "friends=['akte', 'jon', 'red']\n"
     ]
    }
   ],
   "source": [
    "friends = []\n",
    "prompt = 'Enter your friend\\'s name: '\n",
    "while True:\n",
    "    friend = input(prompt)\n",
    "    if friend == 'avery':\n",
    "        break\n",
    "    friends.append(friend)\n",
    "print(f'friends={friends}')"
   ]
  },
  {
   "cell_type": "markdown",
   "metadata": {},
   "source": []
  },
  {
   "cell_type": "markdown",
   "metadata": {},
   "source": [
    "## for"
   ]
  },
  {
   "cell_type": "code",
   "execution_count": 40,
   "metadata": {},
   "outputs": [
    {
     "name": "stdout",
     "output_type": "stream",
     "text": [
      "A=[9, 8, 7, 6, 5, 4, 3, 2, 1, 0]\n",
      "Python\n",
      "1991\n"
     ]
    }
   ],
   "source": [
    "list = [1, 2, 3, 4, 5, 6, 7, 8, 9, 10]\n",
    "A = []\n",
    "for i in list:\n",
    "    A.append(10-i)\n",
    "print(f'A={A}')\n",
    "\n",
    "# 內置的序列類型 list, tuple, dict, set 皆可迭代\n",
    "tup = (\"Python\", 1991)\n",
    "for i in tup:\n",
    "    print(i)"
   ]
  },
  {
   "cell_type": "markdown",
   "metadata": {},
   "source": [
    "### range"
   ]
  },
  {
   "cell_type": "code",
   "execution_count": 44,
   "metadata": {},
   "outputs": [
    {
     "name": "stdout",
     "output_type": "stream",
     "text": [
      "2\n",
      "3\n",
      "4\n",
      "5\n",
      "1\n",
      "3\n",
      "5\n",
      "7\n",
      "9\n"
     ]
    }
   ],
   "source": [
    "# range(start, stop, step)\n",
    "\n",
    "for i in range(2,6):\n",
    "    print(i)\n",
    "\n",
    "for i in range(1,10,2):\n",
    "    print(i)"
   ]
  },
  {
   "cell_type": "markdown",
   "metadata": {},
   "source": [
    "### tup, dictionary, set 中的迭代"
   ]
  },
  {
   "cell_type": "code",
   "execution_count": 49,
   "metadata": {},
   "outputs": [
    {
     "name": "stdout",
     "output_type": "stream",
     "text": [
      "Python\n",
      "Java\n",
      "C++\n",
      "----------------\n",
      "name Avery\n",
      "age 18\n",
      "----------------\n",
      "Python 3.6\n",
      "Python 2.7\n",
      "Python 3.7\n"
     ]
    }
   ],
   "source": [
    "tup = (\"Python\",\"Java\",\"C++\")\n",
    "for i in tup:\n",
    "    print(i)\n",
    "print(\"----------------\")\n",
    "\n",
    "dict = {\"name\":\"Avery\", \"age\":\"18\"}\n",
    "for key in dict:\n",
    "    print(key, dict[key])\n",
    "print(\"----------------\")\n",
    "\n",
    "versions = set([\"Python 2.7\", \"Python 3.6\", \"Python 3.7\"])\n",
    "for version in versions:\n",
    "    print(version)"
   ]
  }
 ],
 "metadata": {
  "kernelspec": {
   "display_name": "base",
   "language": "python",
   "name": "python3"
  },
  "language_info": {
   "codemirror_mode": {
    "name": "ipython",
    "version": 3
   },
   "file_extension": ".py",
   "mimetype": "text/x-python",
   "name": "python",
   "nbconvert_exporter": "python",
   "pygments_lexer": "ipython3",
   "version": "3.11.5"
  }
 },
 "nbformat": 4,
 "nbformat_minor": 2
}
