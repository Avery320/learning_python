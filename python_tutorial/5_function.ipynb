{
 "cells": [
  {
   "cell_type": "markdown",
   "metadata": {},
   "source": [
    "## basic"
   ]
  },
  {
   "cell_type": "markdown",
   "metadata": {},
   "source": [
    "### define a function"
   ]
  },
  {
   "cell_type": "code",
   "execution_count": 5,
   "metadata": {},
   "outputs": [
    {
     "name": "stdout",
     "output_type": "stream",
     "text": [
      "sum=4\n"
     ]
    }
   ],
   "source": [
    "def myFunction():\n",
    "    a = 1 + 3\n",
    "    print(f\"sum={a}\")\n",
    "\n",
    "myFunction()"
   ]
  },
  {
   "cell_type": "code",
   "execution_count": 6,
   "metadata": {},
   "outputs": [
    {
     "name": "stdout",
     "output_type": "stream",
     "text": [
      "sum=4\n",
      "sum=250\n"
     ]
    }
   ],
   "source": [
    "def sum(num1, num2):\n",
    "    print(f\"sum={num1 + num2}\")\n",
    "\n",
    "sum(1, 3)\n",
    "sum(246, 4)"
   ]
  },
  {
   "cell_type": "markdown",
   "metadata": {},
   "source": [
    "### arguments"
   ]
  },
  {
   "cell_type": "code",
   "execution_count": 12,
   "metadata": {},
   "outputs": [
    {
     "name": "stdout",
     "output_type": "stream",
     "text": [
      "I have a Tommy, and its name is dog\n",
      "I have a Kitty, and its name is cat\n"
     ]
    }
   ],
   "source": [
    "def describe_pet(pet_name, animal_type = \"dog\"):\n",
    "    print(f\"I have a {animal_type}, and its name is {pet_name}\")\n",
    "\n",
    "describe_pet(\"dog\", \"Tommy\")\n",
    "describe_pet(\"cat\", \"Kitty\")"
   ]
  },
  {
   "cell_type": "code",
   "execution_count": 13,
   "metadata": {},
   "outputs": [
    {
     "name": "stdout",
     "output_type": "stream",
     "text": [
      "My favorite fruit is apple\n",
      "My favorite fruit is banana\n",
      "My favorite fruit is orange\n"
     ]
    }
   ],
   "source": [
    "fruits = ['apple', 'banana', 'orange']\n",
    "\n",
    "def my_favorite_fruits(fruit):\n",
    "    for x in fruit:\n",
    "        print(f\"My favorite fruit is {x}\")\n",
    "my_favorite_fruits(fruits)"
   ]
  },
  {
   "cell_type": "code",
   "execution_count": 18,
   "metadata": {},
   "outputs": [
    {
     "name": "stdout",
     "output_type": "stream",
     "text": [
      "[1, 0, -1, -2, -3]\n",
      "[1, 2, 3, 4, 5]\n"
     ]
    }
   ],
   "source": [
    "def set_to_one(input):\n",
    "    for i in range(len(input)):\n",
    "        input[i] = 1 -i\n",
    "\n",
    "number_list = [1, 2, 3, 4, 5]\n",
    "set_to_one(number_list)\n",
    "print(number_list)\n",
    "\n",
    "number_list2 = [1, 2, 3, 4, 5]\n",
    "set_to_one(number_list2[:]) # 複製一份新的list\n",
    "print(number_list2)"
   ]
  },
  {
   "cell_type": "code",
   "execution_count": 23,
   "metadata": {},
   "outputs": [
    {
     "name": "stdout",
     "output_type": "stream",
     "text": [
      "Avery's totol grade is 393 \n"
     ]
    }
   ],
   "source": [
    "# variadic function\n",
    "\n",
    "def report(name, *grades): # *grades 代表可以接受任意數量的參數\n",
    "    total_grade = 0\n",
    "    for grade in grades:\n",
    "        total_grade += grade\n",
    "    print(f\"{name}'s totol grade is {total_grade} \")\n",
    "\n",
    "report ('Avery',60, 99, 40, 93, 13, 88)"
   ]
  },
  {
   "cell_type": "code",
   "execution_count": 26,
   "metadata": {},
   "outputs": [
    {
     "name": "stdout",
     "output_type": "stream",
     "text": [
      "name is Avery\n",
      "age 27\n",
      "school ncku\n",
      "country Taiwan\n"
     ]
    }
   ],
   "source": [
    "# kyword argument\n",
    "\n",
    "def info(name, **kw): \n",
    "    print('name is', name)\n",
    "    for k, v in kw.items():\n",
    "        print(k, v)\n",
    "\n",
    "info('Avery', age='27', school='ncku', country='Taiwan')"
   ]
  },
  {
   "cell_type": "markdown",
   "metadata": {},
   "source": [
    "### return value"
   ]
  },
  {
   "cell_type": "code",
   "execution_count": 31,
   "metadata": {},
   "outputs": [
    {
     "name": "stdout",
     "output_type": "stream",
     "text": [
      "Tsai Avery\n"
     ]
    }
   ],
   "source": [
    "def get_formatted_name(first_name, last_name):\n",
    "    return f'{last_name.title()} {first_name.title()}'\n",
    "\n",
    "print(get_formatted_name('Avery','Tsai'))"
   ]
  }
 ],
 "metadata": {
  "kernelspec": {
   "display_name": "base",
   "language": "python",
   "name": "python3"
  },
  "language_info": {
   "codemirror_mode": {
    "name": "ipython",
    "version": 3
   },
   "file_extension": ".py",
   "mimetype": "text/x-python",
   "name": "python",
   "nbconvert_exporter": "python",
   "pygments_lexer": "ipython3",
   "version": "3.11.5"
  }
 },
 "nbformat": 4,
 "nbformat_minor": 2
}
