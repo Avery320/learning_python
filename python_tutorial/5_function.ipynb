{
 "cells": [
  {
   "cell_type": "markdown",
   "metadata": {},
   "source": [
    "## basic"
   ]
  },
  {
   "cell_type": "markdown",
   "metadata": {},
   "source": [
    "### define a function"
   ]
  },
  {
   "cell_type": "code",
   "execution_count": 5,
   "metadata": {},
   "outputs": [
    {
     "name": "stdout",
     "output_type": "stream",
     "text": [
      "sum=4\n"
     ]
    }
   ],
   "source": [
    "def myFunction():\n",
    "    a = 1 + 3\n",
    "    print(f\"sum={a}\")\n",
    "\n",
    "myFunction()"
   ]
  },
  {
   "cell_type": "code",
   "execution_count": 6,
   "metadata": {},
   "outputs": [
    {
     "name": "stdout",
     "output_type": "stream",
     "text": [
      "sum=4\n",
      "sum=250\n"
     ]
    }
   ],
   "source": [
    "def sum(num1, num2):\n",
    "    print(f\"sum={num1 + num2}\")\n",
    "\n",
    "sum(1, 3)\n",
    "sum(246, 4)"
   ]
  },
  {
   "cell_type": "markdown",
   "metadata": {},
   "source": [
    "### arguments"
   ]
  },
  {
   "cell_type": "code",
   "execution_count": 7,
   "metadata": {},
   "outputs": [
    {
     "name": "stdout",
     "output_type": "stream",
     "text": [
      "Avery is 27 years old.\n",
      "Apple is 18 years old.\n"
     ]
    }
   ],
   "source": [
    "#先定義函數標籤\n",
    "def describe_person(name,age):\n",
    "    print(f'{name} is {age} years old.')\n",
    "describe_person('Avery', 27)\n",
    "\n",
    "#重新定義函數標籤位置\n",
    "describe_person(age='18', name='Apple')"
   ]
  },
  {
   "cell_type": "code",
   "execution_count": 9,
   "metadata": {},
   "outputs": [
    {
     "name": "stdout",
     "output_type": "stream",
     "text": [
      "I have a dog, and its name is Tommy\n",
      "I have a cat, and its name is Kitty\n"
     ]
    }
   ],
   "source": [
    "#預先定義參數名稱\n",
    "def describe_pet(pet_name, animal_type = \"dog\"):\n",
    "    print(f\"I have a {animal_type}, and its name is {pet_name}\")\n",
    "\n",
    "#修改已定義的參數名稱\n",
    "describe_pet(\"Tommy\")\n",
    "describe_pet(\"Kitty\", \"cat\")"
   ]
  },
  {
   "cell_type": "code",
   "execution_count": 18,
   "metadata": {},
   "outputs": [
    {
     "name": "stdout",
     "output_type": "stream",
     "text": [
      "My favorite fruit is apple\n",
      "My favorite fruit is banana\n",
      "My favorite fruit is orange\n",
      "apple\n",
      "banana\n",
      "orange\n"
     ]
    }
   ],
   "source": [
    "fruits = ['apple', 'banana', 'orange']\n",
    "def my_favorite_fruits(fruit):\n",
    "    for x in fruit:\n",
    "        print(f\"My favorite fruit is {x}\")\n",
    "    for y in fruit:\n",
    "        print(y)\n",
    "my_favorite_fruits(fruits)\n"
   ]
  },
  {
   "cell_type": "code",
   "execution_count": 18,
   "metadata": {},
   "outputs": [
    {
     "name": "stdout",
     "output_type": "stream",
     "text": [
      "[1, 0, -1, -2, -3]\n",
      "[1, 2, 3, 4, 5]\n"
     ]
    }
   ],
   "source": [
    "def set_to_one(input):\n",
    "    for i in range(len(input)):\n",
    "        input[i] = 1 -i\n",
    "\n",
    "number_list = [1, 2, 3, 4, 5]\n",
    "set_to_one(number_list)\n",
    "print(number_list)\n",
    "\n",
    "number_list2 = [1, 2, 3, 4, 5]\n",
    "set_to_one(number_list2[:]) # 複製一份新的list\n",
    "print(number_list2)"
   ]
  },
  {
   "cell_type": "code",
   "execution_count": 21,
   "metadata": {},
   "outputs": [
    {
     "name": "stdout",
     "output_type": "stream",
     "text": [
      "Avery's totol grade is 386 \n"
     ]
    }
   ],
   "source": [
    "# variadic function\n",
    "\n",
    "def report(name, *grades): # *(參數名):代表可以接受任意數量的參數\n",
    "    total_grade = 0\n",
    "    for grade in grades:\n",
    "        total_grade += grade\n",
    "    print(f\"{name}'s totol grade is {total_grade} \")\n",
    "\n",
    "report ('Avery',60, 92, 40, 93, 13, 88)"
   ]
  },
  {
   "cell_type": "code",
   "execution_count": 25,
   "metadata": {},
   "outputs": [
    {
     "name": "stdout",
     "output_type": "stream",
     "text": [
      "name is Avery\n",
      "age 27\n",
      "school ncku\n",
      "country Taiwan\n"
     ]
    }
   ],
   "source": [
    "# kyword argument\n",
    "\n",
    "def info(name, **kw): #**(參數名):包含參數名的參數\n",
    "    print('name is', name)\n",
    "    for k, v in kw.items():\n",
    "        print(k, v)\n",
    "\n",
    "info('Avery', age='27', school='ncku', country='Taiwan')"
   ]
  },
  {
   "cell_type": "markdown",
   "metadata": {},
   "source": [
    "### return value"
   ]
  },
  {
   "cell_type": "code",
   "execution_count": 31,
   "metadata": {},
   "outputs": [
    {
     "name": "stdout",
     "output_type": "stream",
     "text": [
      "Tsai Avery\n"
     ]
    }
   ],
   "source": [
    "#返回函數\n",
    "def get_formatted_name(first_name, last_name):\n",
    "    return f'{last_name.title()} {first_name.title()}'\n",
    "\n",
    "print(get_formatted_name('Avery','Tsai'))"
   ]
  },
  {
   "cell_type": "code",
   "execution_count": 46,
   "metadata": {},
   "outputs": [
    {
     "name": "stdout",
     "output_type": "stream",
     "text": [
      "('0', 1)\n",
      "('1', 4)\n"
     ]
    }
   ],
   "source": [
    "def MC(data, points):\n",
    "    if points < 5:\n",
    "        return f'{data}', points\n",
    "    else:\n",
    "        return f'{data}', (8 - points)\n",
    "\n",
    "print(MC('0', 7))\n",
    "print(MC('1', 4))"
   ]
  },
  {
   "cell_type": "markdown",
   "metadata": {},
   "source": [
    "## Advance"
   ]
  },
  {
   "cell_type": "code",
   "execution_count": null,
   "metadata": {},
   "outputs": [],
   "source": [
    "import pizza"
   ]
  }
 ],
 "metadata": {
  "kernelspec": {
   "display_name": "base",
   "language": "python",
   "name": "python3"
  },
  "language_info": {
   "codemirror_mode": {
    "name": "ipython",
    "version": 3
   },
   "file_extension": ".py",
   "mimetype": "text/x-python",
   "name": "python",
   "nbconvert_exporter": "python",
   "pygments_lexer": "ipython3",
   "version": "3.11.5"
  }
 },
 "nbformat": 4,
 "nbformat_minor": 2
}
